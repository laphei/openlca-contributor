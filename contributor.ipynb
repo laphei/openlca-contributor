{
 "cells": [
  {
   "cell_type": "code",
   "execution_count": 515,
   "id": "dcecd362",
   "metadata": {},
   "outputs": [],
   "source": [
    "import pandas as pd\n",
    "import numpy as np"
   ]
  },
  {
   "cell_type": "code",
   "execution_count": 520,
   "id": "01ac020a",
   "metadata": {},
   "outputs": [],
   "source": [
    "def parse_contribution_tree(scenario):\n",
    "    # Read the Excel file into a DataFrame\n",
    "    df = pd.read_excel('contribution_tree.xlsx', 'Upstream tree')\n",
    "\n",
    "    # Get the impact category and unit as the dataset name\n",
    "    labels = df.columns[0].split(':')\n",
    "    category = ','.join(labels[1:])[1:]\n",
    "    unit = df.iloc[0][8]\n",
    "    unit = unit[unit.find('[')+1:unit.find(']')]\n",
    "    unit = ''.join(['[', unit, ']'])\n",
    "    name = ''.join([category, ' ', unit])\n",
    "\n",
    "    # Initialize variables\n",
    "    processes = []\n",
    "    final_rows = []\n",
    "    current_subprocess_level = -1\n",
    "\n",
    "    # Iterate through the rows of the dataframe\n",
    "    for i, row in df.iterrows():\n",
    "        # Replace nan by 0 in 'Direct contributions [CTUe]' column\n",
    "        if pd.isna(row.iloc[-1]):\n",
    "            row.iloc[-1] = 0\n",
    "\n",
    "        # Determine level by checking which cell is filled in the row\n",
    "        level = next((j for j in range(len(row)) if not pd.isna(row[j])), len(row))\n",
    "        if level == current_subprocess_level:\n",
    "            current_subprocess_level -= 1\n",
    "\n",
    "        # Check if the current row is a subprocess\n",
    "        if row[level].startswith(scenario):\n",
    "            current_subprocess_level = level\n",
    "            row['Level'] = level\n",
    "            final_rows.append(row.dropna().values)\n",
    "            processes.append([row.dropna().values])\n",
    "\n",
    "        # Check if the row is an activity and needs to be retained\n",
    "        elif not pd.isna(row[level]):\n",
    "            # Check if the activity is directly under a subprocess\n",
    "            if level - 1 == current_subprocess_level:\n",
    "                # Direct child of a subprocess\n",
    "                row['Level'] = level\n",
    "                final_rows.append(row.dropna().values)\n",
    "\n",
    "    # Create a new DataFrame from the filtered rows\n",
    "    final_rows[0][-1] = 'Level'\n",
    "    final_df = pd.DataFrame(final_rows)\n",
    "    final_df.columns = final_df.iloc[0]\n",
    "    final_df = final_df[1:]\n",
    "\n",
    "    # Group subprocesses\n",
    "    for i, row in final_df.iterrows():\n",
    "        for j, p in enumerate(processes):\n",
    "            if row['Level'] - 1 == p[0][-1]:\n",
    "                p.append(row.values)\n",
    "\n",
    "    final_processes = []\n",
    "    for i, p in enumerate(processes):\n",
    "        final_processes.append(pd.DataFrame(list(map(np.ravel, p)), columns=final_df.columns))\n",
    "    \n",
    "    return name, final_df, final_processes"
   ]
  },
  {
   "cell_type": "code",
   "execution_count": 524,
   "id": "abcea3ec",
   "metadata": {},
   "outputs": [
    {
     "name": "stderr",
     "output_type": "stream",
     "text": [
      "c:\\ProgramData\\anaconda3\\Lib\\site-packages\\openpyxl\\styles\\stylesheet.py:226: UserWarning: Workbook contains no default style, apply openpyxl's default\n",
      "  warn(\"Workbook contains no default style, apply openpyxl's default\")\n"
     ]
    }
   ],
   "source": [
    "category, contributions, processes = parse_contribution_tree('Baseline')"
   ]
  },
  {
   "cell_type": "code",
   "execution_count": 525,
   "id": "4446f92f",
   "metadata": {},
   "outputs": [
    {
     "data": {
      "text/plain": [
       "'Human toxicity, carcinogenic, inorganics [CTUh]'"
      ]
     },
     "execution_count": 525,
     "metadata": {},
     "output_type": "execute_result"
    }
   ],
   "source": [
    "category"
   ]
  },
  {
   "cell_type": "code",
   "execution_count": 526,
   "id": "bcbdd7c6",
   "metadata": {},
   "outputs": [
    {
     "data": {
      "text/html": [
       "<div>\n",
       "<style scoped>\n",
       "    .dataframe tbody tr th:only-of-type {\n",
       "        vertical-align: middle;\n",
       "    }\n",
       "\n",
       "    .dataframe tbody tr th {\n",
       "        vertical-align: top;\n",
       "    }\n",
       "\n",
       "    .dataframe thead th {\n",
       "        text-align: right;\n",
       "    }\n",
       "</style>\n",
       "<table border=\"1\" class=\"dataframe\">\n",
       "  <thead>\n",
       "    <tr style=\"text-align: right;\">\n",
       "      <th></th>\n",
       "      <th>Processes</th>\n",
       "      <th>Result [CTUh]</th>\n",
       "      <th>Direct contribution [CTUh]</th>\n",
       "      <th>Level</th>\n",
       "    </tr>\n",
       "  </thead>\n",
       "  <tbody>\n",
       "    <tr>\n",
       "      <th>0</th>\n",
       "      <td>Baseline - 7 Effluent treatment, substitution ...</td>\n",
       "      <td>-8.985897e-06</td>\n",
       "      <td>0.000000e+00</td>\n",
       "      <td>0</td>\n",
       "    </tr>\n",
       "    <tr>\n",
       "      <th>1</th>\n",
       "      <td>market for hazardous waste, for underground de...</td>\n",
       "      <td>2.368781e-08</td>\n",
       "      <td>0.000000e+00</td>\n",
       "      <td>1</td>\n",
       "    </tr>\n",
       "    <tr>\n",
       "      <th>2</th>\n",
       "      <td>market group for electricity, medium voltage |...</td>\n",
       "      <td>1.849581e-08</td>\n",
       "      <td>0.000000e+00</td>\n",
       "      <td>1</td>\n",
       "    </tr>\n",
       "    <tr>\n",
       "      <th>3</th>\n",
       "      <td>market for wastewater, average | wastewater, a...</td>\n",
       "      <td>1.199468e-09</td>\n",
       "      <td>3.737418e-11</td>\n",
       "      <td>1</td>\n",
       "    </tr>\n",
       "    <tr>\n",
       "      <th>4</th>\n",
       "      <td>market for quicklime, milled, packed | quickli...</td>\n",
       "      <td>9.353848e-10</td>\n",
       "      <td>0.000000e+00</td>\n",
       "      <td>1</td>\n",
       "    </tr>\n",
       "    <tr>\n",
       "      <th>5</th>\n",
       "      <td>market group for tap water | tap water | Cutof...</td>\n",
       "      <td>3.306377e-10</td>\n",
       "      <td>0.000000e+00</td>\n",
       "      <td>1</td>\n",
       "    </tr>\n",
       "    <tr>\n",
       "      <th>6</th>\n",
       "      <td>market for wastewater, unpolluted | wastewater...</td>\n",
       "      <td>2.983697e-10</td>\n",
       "      <td>0.000000e+00</td>\n",
       "      <td>1</td>\n",
       "    </tr>\n",
       "    <tr>\n",
       "      <th>7</th>\n",
       "      <td>Baseline - 6 Li recovery, substitution - RER</td>\n",
       "      <td>-9.030844e-06</td>\n",
       "      <td>0.000000e+00</td>\n",
       "      <td>1</td>\n",
       "    </tr>\n",
       "  </tbody>\n",
       "</table>\n",
       "</div>"
      ],
      "text/plain": [
       "0                                          Processes  Result [CTUh]  \\\n",
       "0  Baseline - 7 Effluent treatment, substitution ...  -8.985897e-06   \n",
       "1  market for hazardous waste, for underground de...   2.368781e-08   \n",
       "2  market group for electricity, medium voltage |...   1.849581e-08   \n",
       "3  market for wastewater, average | wastewater, a...   1.199468e-09   \n",
       "4  market for quicklime, milled, packed | quickli...   9.353848e-10   \n",
       "5  market group for tap water | tap water | Cutof...   3.306377e-10   \n",
       "6  market for wastewater, unpolluted | wastewater...   2.983697e-10   \n",
       "7       Baseline - 6 Li recovery, substitution - RER  -9.030844e-06   \n",
       "\n",
       "0  Direct contribution [CTUh]  Level  \n",
       "0                0.000000e+00      0  \n",
       "1                0.000000e+00      1  \n",
       "2                0.000000e+00      1  \n",
       "3                3.737418e-11      1  \n",
       "4                0.000000e+00      1  \n",
       "5                0.000000e+00      1  \n",
       "6                0.000000e+00      1  \n",
       "7                0.000000e+00      1  "
      ]
     },
     "execution_count": 526,
     "metadata": {},
     "output_type": "execute_result"
    }
   ],
   "source": [
    "processes[0]"
   ]
  },
  {
   "cell_type": "code",
   "execution_count": null,
   "id": "46ffaed4",
   "metadata": {},
   "outputs": [],
   "source": []
  }
 ],
 "metadata": {
  "kernelspec": {
   "display_name": "base",
   "language": "python",
   "name": "python3"
  },
  "language_info": {
   "codemirror_mode": {
    "name": "ipython",
    "version": 3
   },
   "file_extension": ".py",
   "mimetype": "text/x-python",
   "name": "python",
   "nbconvert_exporter": "python",
   "pygments_lexer": "ipython3",
   "version": "3.11.4"
  }
 },
 "nbformat": 4,
 "nbformat_minor": 5
}
