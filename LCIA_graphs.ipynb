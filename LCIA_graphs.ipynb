{
 "cells": [
  {
   "cell_type": "code",
   "execution_count": 132,
   "id": "54d9f6c8",
   "metadata": {},
   "outputs": [],
   "source": [
    "import numpy as np\n",
    "import pandas as pd\n",
    "import matplotlib as mpl\n",
    "from matplotlib import pyplot as plt\n",
    "from scipy import stats"
   ]
  },
  {
   "cell_type": "code",
   "execution_count": 362,
   "id": "e392790a",
   "metadata": {},
   "outputs": [
    {
     "name": "stderr",
     "output_type": "stream",
     "text": [
      "c:\\ProgramData\\anaconda3\\Lib\\site-packages\\openpyxl\\styles\\stylesheet.py:226: UserWarning: Workbook contains no default style, apply openpyxl's default\n",
      "  warn(\"Workbook contains no default style, apply openpyxl's default\")\n",
      "c:\\ProgramData\\anaconda3\\Lib\\site-packages\\openpyxl\\styles\\stylesheet.py:226: UserWarning: Workbook contains no default style, apply openpyxl's default\n",
      "  warn(\"Workbook contains no default style, apply openpyxl's default\")\n",
      "c:\\ProgramData\\anaconda3\\Lib\\site-packages\\openpyxl\\styles\\stylesheet.py:226: UserWarning: Workbook contains no default style, apply openpyxl's default\n",
      "  warn(\"Workbook contains no default style, apply openpyxl's default\")\n",
      "c:\\ProgramData\\anaconda3\\Lib\\site-packages\\openpyxl\\styles\\stylesheet.py:226: UserWarning: Workbook contains no default style, apply openpyxl's default\n",
      "  warn(\"Workbook contains no default style, apply openpyxl's default\")\n"
     ]
    }
   ],
   "source": [
    "# Import the datasets\n",
    "Baseline = pd.read_excel('../Baseline.xlsx', 'Impacts', header=1).dropna(axis=1)\n",
    "Baseline_LFP = pd.read_excel('../Baseline-LFP.xlsx', 'Impacts', header=1).dropna(axis=1)\n",
    "CuFe = pd.read_excel('../CuFe.xlsx', 'Impacts', header=1).dropna(axis=1)\n",
    "CuFe_LFP = pd.read_excel('../CuFe-LFP.xlsx', 'Impacts', header=1).dropna(axis=1)\n",
    "\n",
    "Baseline.drop('Impact category UUID', axis=1, inplace=True)\n",
    "Baseline_LFP.drop('Impact category UUID', axis=1, inplace=True)\n",
    "CuFe.drop('Impact category UUID', axis=1, inplace=True)\n",
    "CuFe_LFP.drop('Impact category UUID', axis=1, inplace=True)\n",
    "\n",
    "Baseline['Scenario'] = 'Baseline'\n",
    "Baseline_LFP['Scenario'] = 'Baseline-LFP'\n",
    "CuFe['Scenario'] = 'CuFe'\n",
    "CuFe_LFP['Scenario'] = 'CuFe-LFP'\n",
    "\n",
    "dropped = [\n",
    "    'Climate change: biogenic',\n",
    "    'Climate change: fossil',\n",
    "    'Climate change: land use and land use change',\n",
    "    'Ecotoxicity: freshwater, inorganics',\n",
    "    'Ecotoxicity: freshwater, organics',\n",
    "    'Human toxicity: carcinogenic, inorganics',\n",
    "    'Human toxicity: carcinogenic, organics',\n",
    "    'Human toxicity: non-carcinogenic, inorganics',\n",
    "    'Human toxicity: non-carcinogenic, organics'\n",
    "]\n",
    "\n",
    "for scenario in [Baseline, Baseline_LFP, CuFe, CuFe_LFP]:\n",
    "    for cat in dropped:\n",
    "        i = scenario[scenario['Impact category'] == cat].index\n",
    "        scenario.drop(i, inplace=True)\n",
    "    for i,row in scenario.iterrows():\n",
    "        scenario.loc[i, 'Impact category'] = row['Impact category'] + ' [' + row['Reference unit'] + ']'\n",
    "    scenario.drop('Reference unit', axis=1, inplace=True)"
   ]
  },
  {
   "cell_type": "code",
   "execution_count": 98,
   "id": "8329c6cd",
   "metadata": {},
   "outputs": [],
   "source": [
    "# Baseline_LFP['Result'] /= Baseline['Result'] * 100\n",
    "# CuFe['Result'] /= Baseline['Result'] * 100\n",
    "# CuFe_LFP['Result'] /= Baseline['Result'] * 100\n",
    "# Baseline['Result'] /= Baseline['Result'] * 100 - 100"
   ]
  },
  {
   "cell_type": "code",
   "execution_count": null,
   "id": "73f9b3ba",
   "metadata": {},
   "outputs": [],
   "source": [
    "# Baseline['Impact category'] = ['A', 'CC', 'CCb', 'CCf', 'CClu', 'ETf', 'ETfi', 'ETfo', 'ERnr', 'Ef', 'Em', 'Et', 'HTc', 'HTci', 'HTco', 'HTnc', 'HTnci', 'HTnco', 'IRhh', 'LU', 'MRmm', 'OD', 'PMF', 'POFhh', 'WU']\n",
    "# Baseline_LFP['Impact category'] = ['A', 'CC', 'CCb', 'CCf', 'CClu', 'ETf', 'ETfi', 'ETfo', 'ERnr', 'Ef', 'Em', 'Et', 'HTc', 'HTci', 'HTco', 'HTnc', 'HTnci', 'HTnco', 'IRhh', 'LU', 'MRmm', 'OD', 'PMF', 'POFhh', 'WU']\n",
    "# CuFe['Impact category'] = ['A', 'CC', 'CCb', 'CCf', 'CClu', 'ETf', 'ETfi', 'ETfo', 'ERnr', 'Ef', 'Em', 'Et', 'HTc', 'HTci', 'HTco', 'HTnc', 'HTnci', 'HTnco', 'IRhh', 'LU', 'MRmm', 'OD', 'PMF', 'POFhh', 'WU']\n",
    "# CuFe_LFP['Impact category'] = ['A', 'CC', 'CCb', 'CCf', 'CClu', 'ETf', 'ETfi', 'ETfo', 'ERnr', 'Ef', 'Em', 'Et', 'HTc', 'HTci', 'HTco', 'HTnc', 'HTnci', 'HTnco', 'IRhh', 'LU', 'MRmm', 'OD', 'PMF', 'POFhh', 'WU']"
   ]
  },
  {
   "cell_type": "code",
   "execution_count": 420,
   "id": "c115156f",
   "metadata": {},
   "outputs": [],
   "source": [
    "df = pd.concat([Baseline, Baseline_LFP, CuFe, CuFe_LFP])\n",
    "pivot_df = df.pivot(columns='Scenario', index='Impact category', values='Result')\n",
    "# pivot_df.reindex(index=df['Impact category'].unique(), columns=df['Scenario'].unique())"
   ]
  },
  {
   "cell_type": "code",
   "execution_count": 417,
   "id": "7c967913",
   "metadata": {},
   "outputs": [],
   "source": [
    "def parse_plot_df(pivot_df, i):\n",
    "    df = pivot_df.copy()\n",
    "    for j in range(len(df)):\n",
    "        if j != i:\n",
    "            df.drop(Baseline['Impact category'].iloc[j], inplace=True)\n",
    "    return df"
   ]
  },
  {
   "cell_type": "code",
   "execution_count": 480,
   "id": "4c393203",
   "metadata": {},
   "outputs": [
    {
     "data": {
      "image/png": "[encoded data removed]",
      "text/plain": [
       "<Figure size 700x500 with 1 Axes>"
      ]
     },
     "metadata": {},
     "output_type": "display_data"
    }
   ],
   "source": [
    "# Plot the histograms using full data\n",
    "plot_df = pivot_df.copy()\n",
    "\n",
    "fig, ax = plt.subplots(figsize=(7, 5))\n",
    "mpl.rcParams.update({'font.size': 16})\n",
    "\n",
    "# for i, ax in enumerate(axs.flatten()):\n",
    "#     # ax = plt.subplot(8, 2, i + 1)\n",
    "#     plot_df = parse_plot_df(pivot_df, i)\n",
    "#     plot_df[::-1].plot(\n",
    "#         kind='barh',\n",
    "#         ax=ax,\n",
    "#         cmap=mpl.colormaps['turbo'],\n",
    "#         align='edge',\n",
    "#         width=0.5,\n",
    "#         # edgecolor='white',\n",
    "#         # linewidth=10\n",
    "#     )\n",
    "#     ax.axes.get_yaxis().set_visible(False)\n",
    "#     ax.set_xlabel(pivot_df.index.values[i], labelpad=16)\n",
    "#     ax.ticklabel_format(axis='x', style='sci', scilimits=(-3, 3))\n",
    "#     plt.gca().invert_yaxis()\n",
    "#     ax.get_legend().remove()\n",
    "\n",
    "i = 15\n",
    "plot_df = parse_plot_df(pivot_df, i)\n",
    "# plot_df = pivot_df.iloc[i]\n",
    "plot_df[::-1].plot(\n",
    "    kind='barh',\n",
    "    ax=ax,\n",
    "    cmap=mpl.colormaps['turbo'],\n",
    "    # align='down',\n",
    "    width=0.8,\n",
    ")\n",
    "ax.ticklabel_format(axis='x', style='sci', scilimits=(-3, 3))\n",
    "ax.set_xlabel(pivot_df.index.values[i], labelpad=16) #, fontdict={'size': 14})\n",
    "ax.axes.get_yaxis().set_visible(False)\n",
    "plt.yticks([-1.1])\n",
    "plt.gca().invert_yaxis()\n",
    "# ax.legend(bbox_to_anchor=(1, -0.2))\n",
    "ax.legend(ncols=2)\n",
    "plt.tight_layout()\n",
    "plt.show()"
   ]
  },
  {
   "cell_type": "code",
   "execution_count": null,
   "id": "75bd5816",
   "metadata": {},
   "outputs": [],
   "source": []
  }
 ],
 "metadata": {
  "kernelspec": {
   "display_name": "base",
   "language": "python",
   "name": "python3"
  },
  "language_info": {
   "codemirror_mode": {
    "name": "ipython",
    "version": 3
   },
   "file_extension": ".py",
   "mimetype": "text/x-python",
   "name": "python",
   "nbconvert_exporter": "python",
   "pygments_lexer": "ipython3",
   "version": "3.11.4"
  }
 },
 "nbformat": 4,
 "nbformat_minor": 5
}
